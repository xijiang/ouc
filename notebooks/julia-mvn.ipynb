{
 "cells": [
  {
   "cell_type": "markdown",
   "metadata": {},
   "source": [
    "## 多元正态分布\n",
    "$$f(x) = \\frac{1}{\\sqrt{(2\\pi)^k|\\Sigma|}}e^{-\\frac{1}{2}(x-\\mu)^T\\Sigma^{-1}(x-\\mu)}$$\n",
    "\n",
    "- $\\mu$: 平均值向量\n",
    "- $x$: 随机变量向量\n",
    "- $k$: $x$ 向量的维度\n",
    "- $\\Sigma$: 方差协方差矩阵\n",
    "- det: 矩阵的行列式值\n",
    "\n",
    "\n",
    "### 二元正态分布"
   ]
  },
  {
   "cell_type": "code",
   "execution_count": 1,
   "metadata": {},
   "outputs": [
    {
     "name": "stderr",
     "output_type": "stream",
     "text": [
      "┌ Info: Saved animation to \n",
      "│   fn = C:\\Users\\xijia\\Documents\\Notebooks\\tmp.gif\n",
      "└ @ Plots C:\\Users\\xijia\\.julia\\packages\\Plots\\Iuc9S\\src\\animation.jl:95\n"
     ]
    },
    {
     "data": {
      "text/html": [
       "<img src=\"tmp.gif\" />"
      ],
      "text/plain": [
       "Plots.AnimatedGif(\"C:\\\\Users\\\\xijia\\\\Documents\\\\Notebooks\\\\tmp.gif\")"
      ]
     },
     "execution_count": 1,
     "metadata": {},
     "output_type": "execute_result"
    }
   ],
   "source": [
    "using Plots, Distributions\n",
    "μ = 0\n",
    "σ = .2:.2:5\n",
    "x = -12:.02:12\n",
    "@gif for s in σ\n",
    "    plot([t -> pdf(Normal(μ, s), t)], x, label=\"sigma = $s\")\n",
    "end "
   ]
  },
  {
   "cell_type": "code",
   "execution_count": 47,
   "metadata": {},
   "outputs": [
    {
     "name": "stderr",
     "output_type": "stream",
     "text": [
      "┌ Info: Saved animation to \n",
      "│   fn = C:\\Users\\xijia\\Documents\\Notebooks\\tmp.gif\n",
      "└ @ Plots C:\\Users\\xijia\\.julia\\packages\\Plots\\Iuc9S\\src\\animation.jl:95\n"
     ]
    },
    {
     "data": {
      "text/html": [
       "<img src=\"tmp.gif\" />"
      ],
      "text/plain": [
       "Plots.AnimatedGif(\"C:\\\\Users\\\\xijia\\\\Documents\\\\Notebooks\\\\tmp.gif\")"
      ]
     },
     "execution_count": 47,
     "metadata": {},
     "output_type": "execute_result"
    }
   ],
   "source": [
    "rg = -3:.1:3\n",
    "@gif for cv = 0:.01:.9\n",
    "    Σ = [1. cv; cv 1.]\n",
    "    z = [pdf(MvNormal(Σ), [x, y]) for x in rg, y in rg]\n",
    "    f1 = plot(rg, rg, z, st=:surface, camera=(60, 60))\n",
    "    f2 = plot(rg, rg, z)\n",
    "    plot(f1, f2, layout=(1,2))\n",
    "end"
   ]
  },
  {
   "cell_type": "code",
   "execution_count": 50,
   "metadata": {},
   "outputs": [
    {
     "name": "stderr",
     "output_type": "stream",
     "text": [
      "┌ Info: Saved animation to \n",
      "│   fn = C:\\Users\\xijia\\Documents\\Notebooks\\tmp.gif\n",
      "└ @ Plots C:\\Users\\xijia\\.julia\\packages\\Plots\\Iuc9S\\src\\animation.jl:95\n"
     ]
    },
    {
     "data": {
      "text/html": [
       "<img src=\"tmp.gif\" />"
      ],
      "text/plain": [
       "Plots.AnimatedGif(\"C:\\\\Users\\\\xijia\\\\Documents\\\\Notebooks\\\\tmp.gif\")"
      ]
     },
     "execution_count": 50,
     "metadata": {},
     "output_type": "execute_result"
    }
   ],
   "source": [
    "Σ = [1 .5; .5 1]\n",
    "z = [pdf(MvNormal(Σ), [x,y]) for x in rg, y in rg]\n",
    "@gif for angle=0:1:180\n",
    "    plot(rg, rg, z, st=:surface, camera=(angle, 40))\n",
    "end"
   ]
  }
 ],
 "metadata": {
  "kernelspec": {
   "display_name": "Julia 1.2.0",
   "language": "julia",
   "name": "julia-1.2"
  },
  "language_info": {
   "file_extension": ".jl",
   "mimetype": "application/julia",
   "name": "julia",
   "version": "1.2.0"
  }
 },
 "nbformat": 4,
 "nbformat_minor": 4
}
