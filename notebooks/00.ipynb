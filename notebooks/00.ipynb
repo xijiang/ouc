{
 "cells": [
  {
   "cell_type": "markdown",
   "metadata": {
    "slideshow": {
     "slide_type": "slide"
    }
   },
   "source": [
    "# 课程内容简介\n",
    "\n",
    "* 于希江\n",
    "\n",
    "* 挪威生命科学大学畜牧与水产系\n",
    "\n",
    "* 2019 年 10 月\n",
    "\n",
    "* 青岛"
   ]
  },
  {
   "cell_type": "markdown",
   "metadata": {
    "slideshow": {
     "slide_type": "slide"
    }
   },
   "source": [
    "## 主要内容\n",
    "- 动物育种中常用的模型，及理解\n",
    "\n",
    "- BLUP 估计育种值（EBV）\n",
    "\n",
    "- 利用基因组的信息估计\n",
    "\n",
    "  - 或：基因组选择 $\\Rightarrow$ GEBV\n",
    "\n",
    "- 遗传力（率）（$h^2$）的估计"
   ]
  },
  {
   "cell_type": "markdown",
   "metadata": {
    "slideshow": {
     "slide_type": "subslide"
    }
   },
   "source": [
    "## 安排\n",
    "\n",
    "- 第 0 讲：课程简介，时间及内容安排\n",
    "\n",
    "- 第 1 讲：统计模型、育种、育种值\n",
    "\n",
    "- 第 2 讲：利用系谱和表现型记录估计育种值，BLUP\n",
    "\n",
    "- 第 3 讲：分子血缘系数矩阵，多种模型，模拟和计算\n",
    "\n",
    "- 第 4 讲：利用基因型和表现型的基因组选择"
   ]
  },
  {
   "cell_type": "markdown",
   "metadata": {
    "slideshow": {
     "slide_type": "subslide"
    }
   },
   "source": [
    "## 目的\n",
    "\n",
    "- 常用的育种值估计方法\n",
    "\n",
    "- 遗传力的估计方法\n",
    "\n",
    "- 常用计算工具的使用"
   ]
  },
  {
   "cell_type": "markdown",
   "metadata": {
    "slideshow": {
     "slide_type": "subslide"
    }
   },
   "source": [
    "## 背景要求\n",
    "\n",
    "- 生物类\n",
    "  - 普通遗传学\n",
    "  - 分子遗传学，等\n",
    "\n",
    "- 数学/应用数学\n",
    "  - 微积分、线性代数、概率论和数理统计\n",
    "  - 生物统计\n",
    "\n",
    "- 计算机类\n",
    "  - 熟练一门语言，如 Jupyter (<span style=\"color:blue\">Ju</span>lia, <span style=\"color:blue\">py</span>thon, or <span style=\"color:blue\">R</span>)\n",
    "  - 理解一些常用算法\n",
    "  "
   ]
  },
  {
   "cell_type": "markdown",
   "metadata": {
    "slideshow": {
     "slide_type": "subslide"
    }
   },
   "source": [
    "## 逐渐丰富自己的工具库\n",
    "\n",
    "- Windows 和 MacOS 用户\n",
    "  - Anaconda (Jupyter, lab, notebook)\n",
    "  \n",
    "- Linux 用户\n",
    "  - 有系统的或个人用户的软件包/库管理\n",
    "  - 大部分数据科学的软件都可以免费获得\n",
    "  - 是高性能计算的主力\n",
    "  - 每个人都应该了解一些 Linux (命令)\n",
    "\n",
    "- 本次课程仅给出 Julia 版本的示例"
   ]
  },
  {
   "cell_type": "markdown",
   "metadata": {
    "slideshow": {
     "slide_type": "subslide"
    }
   },
   "source": [
    "## 本课程的要求\n",
    "\n",
    "- 听课，尽量在课堂上记住内容\n",
    "\n",
    "- 做练习\n",
    "  - 课程的幻灯片和示例都在 Jupyter 笔记本完成\n",
    "  - 所有笔记本都可以下载\n",
    "  - https://github.com/xijiang/ouc\n",
    "\n",
    "- 多讨论"
   ]
  },
  {
   "cell_type": "markdown",
   "metadata": {
    "slideshow": {
     "slide_type": "slide"
    }
   },
   "source": [
    "# 本课程用到的工具\n",
    "\n",
    "- Jupyter notebook\n",
    "\n",
    "- Markdown\n",
    "\n",
    "- Julia\n",
    "\n",
    "- git"
   ]
  },
  {
   "cell_type": "markdown",
   "metadata": {
    "slideshow": {
     "slide_type": "slide"
    }
   },
   "source": [
    "## Markdown\n",
    "\n",
    "- html, xml, xhml 是 markup 语言。\n",
    "\n",
    "- Markdown 是 Markup 的轻量级子集\n",
    "  - 容易学会\n",
    "  - 功能足够强大\n",
    "  - 便于版本控制"
   ]
  },
  {
   "cell_type": "markdown",
   "metadata": {
    "slideshow": {
     "slide_type": "subslide"
    }
   },
   "source": [
    "### 结构\n",
    "\n",
    "```markdown\n",
    "# 一级标题\n",
    "\n",
    "## 二级标题\n",
    "\n",
    "### 三级标题\n",
    "```"
   ]
  },
  {
   "cell_type": "markdown",
   "metadata": {
    "slideshow": {
     "slide_type": "subslide"
    }
   },
   "source": [
    "## 文本格式\n",
    "\n",
    "```markdown\n",
    "- 我们可以把字体写成 *斜体*，**粗体**，***粗斜体***，\n",
    "- 也可以插入简单代码如 `ls -l`，和简单公式如 $E=mc^2$\n",
    "- 也可以插入链接，如 [海大主页](http://www.ouc.edu.cn/)\n",
    "- 插入（网上）图片 ![如果图片不显示，显示这些字](http://cmls.ouc.edu.cn/_upload/article/images/06/81/49fa05c94dadb02a50bd416cfdfd/d862cc53-4a40-49ed-b4df-dc243cdf5c5e.jpg)\n",
    "```"
   ]
  },
  {
   "cell_type": "markdown",
   "metadata": {
    "slideshow": {
     "slide_type": "fragment"
    }
   },
   "source": [
    "- 我们可以把字体写成 *斜体*，**粗体**，***粗斜体***，\n",
    "- 也可以插入简单代码如 `ls -l`，和简单公式如 $E=mc^2$\n",
    "- 也可以插入链接，如 [海大主页](http://www.ouc.edu.cn/)\n",
    "- 插入（网上）图片 ![如果图片不显示，显示这些字](http://cmls.ouc.edu.cn/_upload/article/images/06/81/49fa05c94dadb02a50bd416cfdfd/d862cc53-4a40-49ed-b4df-dc243cdf5c5e.jpg)"
   ]
  },
  {
   "cell_type": "markdown",
   "metadata": {
    "slideshow": {
     "slide_type": "subslide"
    }
   },
   "source": [
    "### 列表\n",
    "```markdown\n",
    "- 项目\n",
    "- 项目\n",
    "\n",
    "以下插入一条分割线\n",
    "\n",
    "---\n",
    "1. 项目一\n",
    "1. 项目二\n",
    "```"
   ]
  },
  {
   "cell_type": "markdown",
   "metadata": {
    "slideshow": {
     "slide_type": "fragment"
    }
   },
   "source": [
    "- 项目\n",
    "- 项目\n",
    "\n",
    "以下插入一条分割线\n",
    "\n",
    "---\n",
    "1. 项目一\n",
    "1. 项目二"
   ]
  },
  {
   "cell_type": "markdown",
   "metadata": {
    "slideshow": {
     "slide_type": "subslide"
    }
   },
   "source": [
    "### 表格\n",
    "```markdown\n",
    "| 表头 | 列 1 | 列 2 | 列 3 |\n",
    "| -- | --: | :-- | :--: |\n",
    "| 左对齐 | 右对齐 | 左对齐 | 左右对齐|\n",
    "| 左 | 右 | 左 | 左右|\n",
    "```"
   ]
  },
  {
   "cell_type": "markdown",
   "metadata": {},
   "source": [
    "| 表头 | 列 1 | 列 2 | 列 3 |\n",
    "| -- | --: | :-- | :--: |\n",
    "| 左对齐 | 右对齐 | 左对齐 | 左右对齐|\n",
    "| 左 | 右 | 左 | 左右|"
   ]
  },
  {
   "cell_type": "markdown",
   "metadata": {
    "slideshow": {
     "slide_type": "subslide"
    }
   },
   "source": [
    "### 引用\n",
    "```markdown\n",
    "引文一：\n",
    "\n",
    "> 一师是个好学校。\n",
    "\n",
    "引文二：\n",
    "\n",
    "> Markdown 10 分钟可以学会\n",
    "```"
   ]
  },
  {
   "cell_type": "markdown",
   "metadata": {},
   "source": [
    "引文一：\n",
    "\n",
    "> 一师是个好学校。\n",
    "\n",
    "引文二：\n",
    "\n",
    "> Markdown 10 分钟可以学会\n"
   ]
  },
  {
   "cell_type": "markdown",
   "metadata": {
    "slideshow": {
     "slide_type": "slide"
    }
   },
   "source": [
    "## Julia\n",
    "\n",
    "- 据说有 C 的速度，Python 的易用性\n",
    "\n",
    "- 五分钟学不会\n",
    "\n",
    "![五分钟学不会](images/Digital_rain_animation_medium_letters_shine.gif)"
   ]
  },
  {
   "cell_type": "markdown",
   "metadata": {},
   "source": [
    "### 安装\n",
    "\n",
    "- https://julialang.org/downloads/platform.html\n",
    "\n",
    "\n",
    "- Windows\n",
    "  - 可以从 https://julialang.org/downloads/ 下载和安装\n",
    "\n",
    "\n",
    "- Linux\n",
    "  - Fedora:\n",
    "  ```bash\n",
    "  sudo copr enable nalimilan\n",
    "  sudo dnf install julia # or sudo yum install julia\n",
    "  ```\n",
    "  \n",
    "  - Ubuntu `sudo apt-get install julia`"
   ]
  },
  {
   "cell_type": "markdown",
   "metadata": {},
   "source": [
    "### 运行\n",
    "\n",
    "- `julia` for REPL (read-eval-print loop)\n",
    "\n",
    "```julia\n",
    "]\n",
    "add Plots\n",
    "add IJulia\n",
    "```\n",
    "\n",
    "- Jupyter notebook\n",
    "\n",
    "- IDE\n",
    "  - vscode\n",
    "  - Emacs/vi/atom ...\n",
    "  \n",
    "  \n",
    "- 一些简单使用将贯穿这几次课程"
   ]
  },
  {
   "cell_type": "markdown",
   "metadata": {
    "slideshow": {
     "slide_type": "slide"
    }
   },
   "source": [
    "## Git\n",
    "\n",
    "- 安装\n",
    "\n",
    "- 常用设置\n",
    "\n",
    "- 常用命令\n",
    "\n",
    "- git-flow?"
   ]
  },
  {
   "cell_type": "markdown",
   "metadata": {
    "slideshow": {
     "slide_type": "subslide"
    }
   },
   "source": [
    "### 常用设置\n",
    "\n",
    "```bash\n",
    "git config --global user.name \"Xijiang Yu\"\n",
    "git config --global user.email xijiang@users.noreply.github.com\n",
    "# git commit --amend --reset-author\n",
    "git config --global core.editor emacs # if you like Emacs more, default vi\n",
    "git config --global merge.tool meld\n",
    "git config --global alias.ss 'status -s'\n",
    "git config --list  # to see the current configurations\n",
    "# git config --global color.ui true  # for CentOS version\n",
    "```"
   ]
  },
  {
   "cell_type": "markdown",
   "metadata": {
    "slideshow": {
     "slide_type": "subslide"
    }
   },
   "source": [
    "### 常用命令\n",
    "\n",
    "```bash\n",
    "# 如下可得到本课程的课件\n",
    "git clone https://github.com/xijiang/ouc\n",
    "# 访问 https://github.com/xijiang/ouc 也可以得到\n",
    "\n",
    "# 如下可得到本课程的更新\n",
    "#-- 在你的 ouc 目录\n",
    "git pull https://github.com/xijiang/ouc\n",
    "```"
   ]
  },
  {
   "cell_type": "markdown",
   "metadata": {
    "slideshow": {
     "slide_type": "skip"
    }
   },
   "source": [
    "### Flow\n",
    "\n",
    "- A branch model of git\n",
    "\n",
    "- 可参考：\n",
    "\n",
    "  - https://www.atlassian.com/git/tutorials/comparing-workflows/gitflow-workflow\n",
    "\n",
    "  - https://datasift.github.io/gitflow/IntroducingGitFlow.html\n",
    "  \n",
    "  - http://danielkummer.github.io/git-flow-cheatsheet/"
   ]
  },
  {
   "cell_type": "markdown",
   "metadata": {
    "slideshow": {
     "slide_type": "skip"
    }
   },
   "source": [
    "## Jupyter-notebook / Jupyter-lab\n",
    "\n",
    "- 综合 Markdown 用于记录和演示\n",
    "  - Joplin?\n",
    "  - Ghostwriter?\n",
    "\n",
    "\n",
    "- 可以综合 Julia，Python，R 等语言\n",
    "  - 最好用专门的开发工具进行\n",
    "\n",
    "\n",
    "- 可以用 git 做版本控制\n",
    "  - 但是效果不是太好"
   ]
  },
  {
   "cell_type": "markdown",
   "metadata": {
    "slideshow": {
     "slide_type": "skip"
    }
   },
   "source": [
    "### 笔记本的缺点\n",
    "\n",
    "1. It is almost impossible to enable good code versioning\n",
    "\n",
    "2. There is no IDE integration, no linting, no code-style correction\n",
    "\n",
    "3. Very hard to test\n",
    "\n",
    "4. The non-linear workflow of jupyter\n",
    "\n",
    "5. Jupyter is bad for running long asynchronous tasks"
   ]
  },
  {
   "cell_type": "markdown",
   "metadata": {},
   "source": [
    "### 其它工具\n",
    "\n",
    "- Notebooks 和 lab 很多时候适合做小玩具\n",
    "  - 当然也可以解决很多问题\n",
    "  \n",
    "\n",
    "- 集成开发环境如 vscode, Emacs, 甚至 vi 都适合完成较大项目的研发。\n"
   ]
  }
 ],
 "metadata": {
  "kernelspec": {
   "display_name": "Julia 1.2.0",
   "language": "julia",
   "name": "julia-1.2"
  },
  "language_info": {
   "file_extension": ".jl",
   "mimetype": "application/julia",
   "name": "julia",
   "version": "1.2.0"
  }
 },
 "nbformat": 4,
 "nbformat_minor": 4
}
